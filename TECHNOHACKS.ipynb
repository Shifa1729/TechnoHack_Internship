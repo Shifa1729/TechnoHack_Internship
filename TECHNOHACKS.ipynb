{
 "cells": [
  {
   "cell_type": "markdown",
   "id": "5b8b8fae",
   "metadata": {},
   "source": [
    "# TECHNOHACKS INTERNSHIP\n",
    "\n",
    "## AUTHOR - SHIFA SIDDIQUE ( DOMAIN- DATA ANALYTICS)"
   ]
  },
  {
   "cell_type": "code",
   "execution_count": 8,
   "id": "e809c9c7",
   "metadata": {},
   "outputs": [],
   "source": [
    "import pandas as pd\n",
    "import seaborn as sns\n",
    "import matplotlib.pyplot as plt"
   ]
  },
  {
   "cell_type": "code",
   "execution_count": 9,
   "id": "ce2eeb9c",
   "metadata": {},
   "outputs": [],
   "source": [
    "# Step 1: Load the Titanic dataset \n",
    "data1 = pd.read_csv(\"train.csv\")\n",
    "data2 = pd.read_csv(\"test.csv\")\n",
    "data3 = pd.read_csv(\"gender_submission.csv\")"
   ]
  },
  {
   "cell_type": "markdown",
   "id": "20629752",
   "metadata": {},
   "source": [
    "### TASK 1 - PERFORM DATA CLEANING"
   ]
  },
  {
   "cell_type": "code",
   "execution_count": 10,
   "id": "26c91943",
   "metadata": {},
   "outputs": [
    {
     "name": "stdout",
     "output_type": "stream",
     "text": [
      "Missing values in the train dataset:\n",
      "PassengerId      0\n",
      "Survived         0\n",
      "Pclass           0\n",
      "Name             0\n",
      "Sex              0\n",
      "Age            177\n",
      "SibSp            0\n",
      "Parch            0\n",
      "Ticket           0\n",
      "Fare             0\n",
      "Cabin          687\n",
      "Embarked         2\n",
      "dtype: int64\n",
      "\n",
      "Missing values in the test dataset:\n",
      "PassengerId      0\n",
      "Pclass           0\n",
      "Name             0\n",
      "Sex              0\n",
      "Age             86\n",
      "SibSp            0\n",
      "Parch            0\n",
      "Ticket           0\n",
      "Fare             1\n",
      "Cabin          327\n",
      "Embarked         0\n",
      "dtype: int64\n",
      "\n",
      "Missing values in the gender submission dataset:\n",
      "PassengerId    0\n",
      "Survived       0\n",
      "dtype: int64\n"
     ]
    }
   ],
   "source": [
    "# Step 2: Check for missing values\n",
    "print(\"Missing values in the train dataset:\")\n",
    "print(data1.isnull().sum())\n",
    "print(\"\\nMissing values in the test dataset:\")\n",
    "print(data2.isnull().sum())\n",
    "print(\"\\nMissing values in the gender submission dataset:\")\n",
    "print(data3.isnull().sum())"
   ]
  },
  {
   "cell_type": "code",
   "execution_count": 11,
   "id": "21c92b08",
   "metadata": {},
   "outputs": [],
   "source": [
    "# Step 3: Remove rows with missing values\n",
    "data_cleaned1 = data1.dropna()\n",
    "data_cleaned2 = data2.dropna()\n",
    "data_cleaned3 = data3.dropna()\n"
   ]
  },
  {
   "cell_type": "code",
   "execution_count": null,
   "id": "098dbb04",
   "metadata": {},
   "outputs": [
    {
     "name": "stderr",
     "output_type": "stream",
     "text": [
      "C:\\Users\\hp\\anaconda3\\lib\\site-packages\\seaborn\\_decorators.py:36: FutureWarning: Pass the following variable as a keyword arg: x. From version 0.12, the only valid positional argument will be `data`, and passing other arguments without an explicit keyword will result in an error or misinterpretation.\n",
      "  warnings.warn(\n"
     ]
    },
    {
     "data": {
      "image/png": "[encoded data removed]",
      "text/plain": [
       "<Figure size 576x432 with 1 Axes>"
      ]
     },
     "metadata": {
      "needs_background": "light"
     },
     "output_type": "display_data"
    },
    {
     "name": "stderr",
     "output_type": "stream",
     "text": [
      "C:\\Users\\hp\\anaconda3\\lib\\site-packages\\seaborn\\_decorators.py:36: FutureWarning: Pass the following variable as a keyword arg: x. From version 0.12, the only valid positional argument will be `data`, and passing other arguments without an explicit keyword will result in an error or misinterpretation.\n",
      "  warnings.warn(\n"
     ]
    },
    {
     "data": {
      "image/png": "[encoded data removed]",
      "text/plain": [
       "<Figure size 576x432 with 1 Axes>"
      ]
     },
     "metadata": {
      "needs_background": "light"
     },
     "output_type": "display_data"
    }
   ],
   "source": [
    "# For test dataset\n",
    "# Boxplot for age\n",
    "plt.figure(figsize=(8, 6))\n",
    "sns.boxplot(data_cleaned2['Age'])\n",
    "plt.xlabel('Age')\n",
    "plt.title('Boxplot of Age')\n",
    "plt.show()\n",
    "\n",
    "# Boxplot for fare\n",
    "plt.figure(figsize=(8, 6))\n",
    "sns.boxplot(data_cleaned2['Fare'])\n",
    "plt.xlabel('Fare')\n",
    "plt.title('Boxplot of Fare')\n",
    "plt.show()\n"
   ]
  },
  {
   "cell_type": "code",
   "execution_count": null,
   "id": "54d18ce5",
   "metadata": {},
   "outputs": [],
   "source": [
    "# Step 5: Handle outliers \n",
    "# For this example, we will remove rows with outliers using a simple approach.\n",
    "# You can choose more sophisticated methods depending on your analysis requirements.\n",
    "\n",
    "# Remove rows with age outliers (outside 1.5 times the interquartile range) for train dataset\n",
    "age_iqr = data_cleaned1['Age'].quantile(0.75) - data_cleaned1['Age'].quantile(0.25)\n",
    "age_lower = data_cleaned1['Age'].quantile(0.25) - 1.5 * age_iqr\n",
    "age_upper = data_cleaned1['Age'].quantile(0.75) + 1.5 * age_iqr\n",
    "data_cleaned1 = data_cleaned1[(data_cleaned1['Age'] >= age_lower) & (data_cleaned1['Age'] <= age_upper)]\n",
    "\n",
    "# Remove rows with age outliers (outside 1.5 times the interquartile range) for test dataset\n",
    "age_iqr = data_cleaned2['Age'].quantile(0.75) - data_cleaned2['Age'].quantile(0.25)\n",
    "age_lower = data_cleaned2['Age'].quantile(0.25) - 1.5 * age_iqr\n",
    "age_upper = data_cleaned2['Age'].quantile(0.75) + 1.5 * age_iqr\n",
    "data_cleaned2 = data_cleaned2[(data_cleaned2['Age'] >= age_lower) & (data_cleaned2['Age'] <= age_upper)]\n",
    "\n",
    "# Remove rows with fare outliers (outside 1.5 times the interquartile range) for test dataset\n",
    "fare_iqr = data_cleaned2['Fare'].quantile(0.75) - data_cleaned2['Fare'].quantile(0.25)\n",
    "fare_lower = data_cleaned2['Fare'].quantile(0.25) - 1.5 * fare_iqr\n",
    "fare_upper = data_cleaned2['Fare'].quantile(0.75) + 1.5 * fare_iqr\n",
    "data_cleaned2 = data_cleaned2[(data_cleaned2['Fare'] >= fare_lower) & (data_cleaned2['Fare'] <= fare_upper)]\n",
    "\n"
   ]
  },
  {
   "cell_type": "code",
   "execution_count": null,
   "id": "fc37024a",
   "metadata": {},
   "outputs": [
    {
     "name": "stdout",
     "output_type": "stream",
     "text": [
      "\n",
      "Cleaned train dataset information:\n",
      "<class 'pandas.core.frame.DataFrame'>\n",
      "Int64Index: 183 entries, 1 to 889\n",
      "Data columns (total 12 columns):\n",
      " #   Column       Non-Null Count  Dtype  \n",
      "---  ------       --------------  -----  \n",
      " 0   PassengerId  183 non-null    int64  \n",
      " 1   Survived     183 non-null    int64  \n",
      " 2   Pclass       183 non-null    int64  \n",
      " 3   Name         183 non-null    object \n",
      " 4   Sex          183 non-null    object \n",
      " 5   Age          183 non-null    float64\n",
      " 6   SibSp        183 non-null    int64  \n",
      " 7   Parch        183 non-null    int64  \n",
      " 8   Ticket       183 non-null    object \n",
      " 9   Fare         183 non-null    float64\n",
      " 10  Cabin        183 non-null    object \n",
      " 11  Embarked     183 non-null    object \n",
      "dtypes: float64(2), int64(5), object(5)\n",
      "memory usage: 18.6+ KB\n",
      "None\n"
     ]
    }
   ],
   "source": [
    "# Step 6: Verify the cleaned dataset\n",
    "print(\"\\nCleaned train dataset information:\")\n",
    "print(data_cleaned1.info())"
   ]
  },
  {
   "cell_type": "code",
   "execution_count": null,
   "id": "02b000a3",
   "metadata": {},
   "outputs": [
    {
     "name": "stdout",
     "output_type": "stream",
     "text": [
      "\n",
      "Cleaned test dataset information:\n",
      "<class 'pandas.core.frame.DataFrame'>\n",
      "Int64Index: 86 entries, 12 to 414\n",
      "Data columns (total 11 columns):\n",
      " #   Column       Non-Null Count  Dtype  \n",
      "---  ------       --------------  -----  \n",
      " 0   PassengerId  86 non-null     int64  \n",
      " 1   Pclass       86 non-null     int64  \n",
      " 2   Name         86 non-null     object \n",
      " 3   Sex          86 non-null     object \n",
      " 4   Age          86 non-null     float64\n",
      " 5   SibSp        86 non-null     int64  \n",
      " 6   Parch        86 non-null     int64  \n",
      " 7   Ticket       86 non-null     object \n",
      " 8   Fare         86 non-null     float64\n",
      " 9   Cabin        86 non-null     object \n",
      " 10  Embarked     86 non-null     object \n",
      "dtypes: float64(2), int64(4), object(5)\n",
      "memory usage: 8.1+ KB\n",
      "None\n"
     ]
    }
   ],
   "source": [
    "print(\"\\nCleaned test dataset information:\")\n",
    "print(data_cleaned2.info())"
   ]
  },
  {
   "cell_type": "markdown",
   "id": "a44239e1",
   "metadata": {},
   "source": [
    "### TASK 2: CALCULATE SUMMARY STATISTICS"
   ]
  },
  {
   "cell_type": "code",
   "execution_count": null,
   "id": "fab17793",
   "metadata": {},
   "outputs": [
    {
     "name": "stdout",
     "output_type": "stream",
     "text": [
      "Summary Statistics:\n",
      "Mean:\n",
      "PassengerId    455.366120\n",
      "Survived         0.672131\n",
      "Pclass           1.191257\n",
      "Age             35.674426\n",
      "SibSp            0.464481\n",
      "Parch            0.475410\n",
      "Fare            78.682469\n",
      "dtype: float64\n",
      "\n",
      "Median:\n",
      "PassengerId    457.0\n",
      "Survived         1.0\n",
      "Pclass           1.0\n",
      "Age             36.0\n",
      "SibSp            0.0\n",
      "Parch            0.0\n",
      "Fare            57.0\n",
      "dtype: float64\n",
      "\n",
      "Mode:\n",
      "PassengerId                                2\n",
      "Survived                                 1.0\n",
      "Pclass                                   1.0\n",
      "Name           Allen, Miss. Elisabeth Walton\n",
      "Sex                                     male\n",
      "Age                                     36.0\n",
      "SibSp                                    0.0\n",
      "Parch                                    0.0\n",
      "Ticket                                113760\n",
      "Fare                                   26.55\n",
      "Cabin                                B96 B98\n",
      "Embarked                                   S\n",
      "Name: 0, dtype: object\n",
      "\n",
      "Standard Deviation:\n",
      "PassengerId    247.052476\n",
      "Survived         0.470725\n",
      "Pclass           0.515187\n",
      "Age             15.643866\n",
      "SibSp            0.644159\n",
      "Parch            0.754617\n",
      "Fare            76.347843\n",
      "dtype: float64\n"
     ]
    },
    {
     "name": "stderr",
     "output_type": "stream",
     "text": [
      "C:\\Users\\hp\\AppData\\Local\\Temp/ipykernel_9360/3153602826.py:3: FutureWarning: Dropping of nuisance columns in DataFrame reductions (with 'numeric_only=None') is deprecated; in a future version this will raise TypeError.  Select only valid columns before calling the reduction.\n",
      "  mean_values = data_cleaned1.mean()\n",
      "C:\\Users\\hp\\AppData\\Local\\Temp/ipykernel_9360/3153602826.py:6: FutureWarning: Dropping of nuisance columns in DataFrame reductions (with 'numeric_only=None') is deprecated; in a future version this will raise TypeError.  Select only valid columns before calling the reduction.\n",
      "  median_values = data_cleaned1.median()\n",
      "C:\\Users\\hp\\AppData\\Local\\Temp/ipykernel_9360/3153602826.py:12: FutureWarning: Dropping of nuisance columns in DataFrame reductions (with 'numeric_only=None') is deprecated; in a future version this will raise TypeError.  Select only valid columns before calling the reduction.\n",
      "  std_values = data_cleaned1.std()\n"
     ]
    }
   ],
   "source": [
    "# Calculate summary statistics for train dataset\n",
    "# Calculate the mean\n",
    "mean_values = data_cleaned1.mean()\n",
    "\n",
    "# Calculate the median\n",
    "median_values = data_cleaned1.median()\n",
    "\n",
    "# Calculate the mode (returns a Series as there can be multiple modes)\n",
    "mode_values = data_cleaned1.mode().iloc[0]\n",
    "\n",
    "# Calculate the standard deviation\n",
    "std_values = data_cleaned1.std()\n",
    "\n",
    "# Step 3: Display the summary statistics\n",
    "print(\"Summary Statistics:\")\n",
    "print(\"Mean:\")\n",
    "print(mean_values)\n",
    "print(\"\\nMedian:\")\n",
    "print(median_values)\n",
    "print(\"\\nMode:\")\n",
    "print(mode_values)\n",
    "print(\"\\nStandard Deviation:\")\n",
    "print(std_values)"
   ]
  },
  {
   "cell_type": "code",
   "execution_count": null,
   "id": "9b50430e",
   "metadata": {},
   "outputs": [
    {
     "name": "stdout",
     "output_type": "stream",
     "text": [
      "Summary Statistics:\n",
      "Mean:\n",
      "PassengerId    1101.174419\n",
      "Pclass            1.139535\n",
      "Age              39.029070\n",
      "SibSp             0.604651\n",
      "Parch             0.476744\n",
      "Fare             93.292686\n",
      "dtype: float64\n",
      "\n",
      "Median:\n",
      "PassengerId    1091.0000\n",
      "Pclass            1.0000\n",
      "Age              39.0000\n",
      "SibSp             1.0000\n",
      "Parch             0.0000\n",
      "Fare             67.3208\n",
      "dtype: float64\n",
      "\n",
      "Mode:\n",
      "PassengerId                              904\n",
      "Pclass                                   1.0\n",
      "Name           Abelseth, Mr. Olaus Jorgensen\n",
      "Sex                                   female\n",
      "Age                                     30.0\n",
      "SibSp                                    1.0\n",
      "Parch                                    0.0\n",
      "Ticket                                113503\n",
      "Fare                                   211.5\n",
      "Cabin                        B57 B59 B63 B66\n",
      "Embarked                                   C\n",
      "Name: 0, dtype: object\n",
      "\n",
      "Standard Deviation:\n",
      "PassengerId    126.675890\n",
      "Pclass           0.438253\n",
      "Age             15.170667\n",
      "SibSp            0.637626\n",
      "Parch            0.864009\n",
      "Fare            76.319553\n",
      "dtype: float64\n"
     ]
    },
    {
     "name": "stderr",
     "output_type": "stream",
     "text": [
      "C:\\Users\\hp\\AppData\\Local\\Temp/ipykernel_9360/1720852025.py:3: FutureWarning: Dropping of nuisance columns in DataFrame reductions (with 'numeric_only=None') is deprecated; in a future version this will raise TypeError.  Select only valid columns before calling the reduction.\n",
      "  mean_values = data_cleaned2.mean()\n",
      "C:\\Users\\hp\\AppData\\Local\\Temp/ipykernel_9360/1720852025.py:6: FutureWarning: Dropping of nuisance columns in DataFrame reductions (with 'numeric_only=None') is deprecated; in a future version this will raise TypeError.  Select only valid columns before calling the reduction.\n",
      "  median_values = data_cleaned2.median()\n",
      "C:\\Users\\hp\\AppData\\Local\\Temp/ipykernel_9360/1720852025.py:12: FutureWarning: Dropping of nuisance columns in DataFrame reductions (with 'numeric_only=None') is deprecated; in a future version this will raise TypeError.  Select only valid columns before calling the reduction.\n",
      "  std_values = data_cleaned2.std()\n"
     ]
    }
   ],
   "source": [
    "# Calculate summary statistics for test data\n",
    "# Calculate the mean\n",
    "mean_values = data_cleaned2.mean()\n",
    "\n",
    "# Calculate the median\n",
    "median_values = data_cleaned2.median()\n",
    "\n",
    "# Calculate the mode (returns a Series as there can be multiple modes)\n",
    "mode_values = data_cleaned2.mode().iloc[0]\n",
    "\n",
    "# Calculate the standard deviation\n",
    "std_values = data_cleaned2.std()\n",
    "\n",
    "# Step 3: Display the summary statistics\n",
    "print(\"Summary Statistics:\")\n",
    "print(\"Mean:\")\n",
    "print(mean_values)\n",
    "print(\"\\nMedian:\")\n",
    "print(median_values)\n",
    "print(\"\\nMode:\")\n",
    "print(mode_values)\n",
    "print(\"\\nStandard Deviation:\")\n",
    "print(std_values)"
   ]
  },
  {
   "cell_type": "code",
   "execution_count": null,
   "id": "f7238762",
   "metadata": {},
   "outputs": [
    {
     "name": "stdout",
     "output_type": "stream",
     "text": [
      "Summary Statistics:\n",
      "Mean:\n",
      "PassengerId    1100.500000\n",
      "Survived          0.363636\n",
      "dtype: float64\n",
      "\n",
      "Median:\n",
      "PassengerId    1100.5\n",
      "Survived          0.0\n",
      "dtype: float64\n",
      "\n",
      "Mode:\n",
      "PassengerId    892.0\n",
      "Survived         0.0\n",
      "Name: 0, dtype: float64\n",
      "\n",
      "Standard Deviation:\n",
      "PassengerId    120.810458\n",
      "Survived         0.481622\n",
      "dtype: float64\n"
     ]
    }
   ],
   "source": [
    "# Calculate summary statistics for gender submission dataset\n",
    "# Calculate the mean\n",
    "mean_values = data3.mean()\n",
    "\n",
    "# Calculate the median\n",
    "median_values = data3.median()\n",
    "\n",
    "# Calculate the mode (returns a Series as there can be multiple modes)\n",
    "mode_values = data3.mode().iloc[0]\n",
    "\n",
    "# Calculate the standard deviation\n",
    "std_values = data3.std()\n",
    "\n",
    "# Step 3: Display the summary statistics\n",
    "print(\"Summary Statistics:\")\n",
    "print(\"Mean:\")\n",
    "print(mean_values)\n",
    "print(\"\\nMedian:\")\n",
    "print(median_values)\n",
    "print(\"\\nMode:\")\n",
    "print(mode_values)\n",
    "print(\"\\nStandard Deviation:\")\n",
    "print(std_values)"
   ]
  },
  {
   "cell_type": "markdown",
   "id": "5a4a2bbf",
   "metadata": {},
   "source": [
    "### TASK 3: VISUALIZATION USING HISTOGRAM"
   ]
  },
  {
   "cell_type": "code",
   "execution_count": 16,
   "id": "88d54fcb",
   "metadata": {},
   "outputs": [
    {
     "data": {
      "image/png": "[encoded data removed]",
      "text/plain": [
       "<Figure size 800x600 with 1 Axes>"
      ]
     },
     "metadata": {},
     "output_type": "display_data"
    }
   ],
   "source": [
    "# Create a histogram to visualize the distribution of age in train dataset\n",
    "column_name = 'Age'\n",
    "plt.figure(figsize=(8, 6))\n",
    "plt.hist(data_cleaned1[column_name], bins=10, color='GREY', edgecolor='black')\n",
    "plt.xlabel('Values')\n",
    "plt.ylabel('Frequency')\n",
    "plt.title(f'Histogram of Age')\n",
    "plt.show()"
   ]
  },
  {
   "cell_type": "code",
   "execution_count": 17,
   "id": "87a954dd",
   "metadata": {},
   "outputs": [
    {
     "data": {
      "image/png": "[encoded data removed]",
      "text/plain": [
       "<Figure size 800x600 with 1 Axes>"
      ]
     },
     "metadata": {},
     "output_type": "display_data"
    }
   ],
   "source": [
    "# Create a bar chart to visualize the distribution of survived in train dataset\n",
    "column_name = 'Survived'\n",
    "plt.figure(figsize=(8, 6))\n",
    "data_cleaned1[column_name].value_counts().plot(kind='bar', color='PINK', edgecolor='black')\n",
    "plt.xlabel('Categories')\n",
    "plt.ylabel('Frequency')\n",
    "plt.title(f'Bar Chart of Survived')\n",
    "plt.show()"
   ]
  },
  {
   "cell_type": "code",
   "execution_count": 18,
   "id": "901c6dc0",
   "metadata": {},
   "outputs": [
    {
     "data": {
      "image/png": "[encoded data removed]",
      "text/plain": [
       "<Figure size 800x600 with 1 Axes>"
      ]
     },
     "metadata": {},
     "output_type": "display_data"
    }
   ],
   "source": [
    "# Create a bar chart to visualize the distribution of sex in train dataset\n",
    "column_name = 'Sex'\n",
    "plt.figure(figsize=(8, 6))\n",
    "data_cleaned1[column_name].value_counts().plot(kind='bar', color='LIME', edgecolor='black')\n",
    "plt.xlabel('Categories')\n",
    "plt.ylabel('Frequency')\n",
    "plt.title(f'Bar Chart of Sex')\n",
    "plt.show()"
   ]
  },
  {
   "cell_type": "code",
   "execution_count": 20,
   "id": "13d76c1d",
   "metadata": {},
   "outputs": [
    {
     "data": {
      "image/png": "[encoded data removed]",
      "text/plain": [
       "<Figure size 800x600 with 1 Axes>"
      ]
     },
     "metadata": {},
     "output_type": "display_data"
    }
   ],
   "source": [
    "# Create a bar chart to visualize the distribution of embarked in train dataset\n",
    "column_name = 'Embarked'\n",
    "plt.figure(figsize=(8, 6))\n",
    "data_cleaned1[column_name].value_counts().plot(kind='bar', color='MAGENTA', edgecolor='black')\n",
    "plt.xlabel('Categories')\n",
    "plt.ylabel('Frequency')\n",
    "plt.title(f'Bar Chart of Embarked')\n",
    "plt.show()"
   ]
  },
  {
   "cell_type": "markdown",
   "id": "6a431fc8",
   "metadata": {},
   "source": [
    "# THANK YOU"
   ]
  }
 ],
 "metadata": {
  "kernelspec": {
   "display_name": "Python 3 (ipykernel)",
   "language": "python",
   "name": "python3"
  },
  "language_info": {
   "codemirror_mode": {
    "name": "ipython",
    "version": 3
   },
   "file_extension": ".py",
   "mimetype": "text/x-python",
   "name": "python",
   "nbconvert_exporter": "python",
   "pygments_lexer": "ipython3",
   "version": "3.11.0"
  }
 },
 "nbformat": 4,
 "nbformat_minor": 5
}
